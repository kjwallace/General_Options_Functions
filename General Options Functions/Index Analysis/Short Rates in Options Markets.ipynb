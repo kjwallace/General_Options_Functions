{
 "cells": [
  {
   "cell_type": "markdown",
   "id": "df70d9ab",
   "metadata": {},
   "source": [
    "## Short Rates \n",
    "\n",
    "The time value of money associated with the depreciation of all assets over time is central to all pricing theory of exchange traded assets, especially options.\n",
    "However the stochastic properties of short term interest rates are largely unknown and empirical studies have generally yielded conflicting results about thier exact properties.\n",
    "\n",
    "Yet these short rates additionally have stylized facts:\n",
    "\n",
    "   - **positivity**:  Nominal interest rates are positive in general and a model must take this into account.\n",
    "   - **stochastity**: interest rates in general and short rates in particular move in a completely random fashion; there are no means to predict their movements in hgih confidence.\n",
    "   - **mean reversion**: interest rates cannot trend to zero nor infinity, and thus must regress to infintity.\n",
    "   - **term structure**: yields of different benchmark bonds and intrabank lending all vary across different time periods that would imply different short rates.\n",
    "   \n",
    "### The Euribor:\n",
    "The Euro Interbank Offered Rate is a benchmark rate for intrabank lending. Different maturities are offered from between 1 week to 1 year."
   ]
  }
 ],
 "metadata": {
  "kernelspec": {
   "display_name": "Python 3 (ipykernel)",
   "language": "python",
   "name": "python3"
  },
  "language_info": {
   "codemirror_mode": {
    "name": "ipython",
    "version": 3
   },
   "file_extension": ".py",
   "mimetype": "text/x-python",
   "name": "python",
   "nbconvert_exporter": "python",
   "pygments_lexer": "ipython3",
   "version": "3.9.7"
  }
 },
 "nbformat": 4,
 "nbformat_minor": 5
}
